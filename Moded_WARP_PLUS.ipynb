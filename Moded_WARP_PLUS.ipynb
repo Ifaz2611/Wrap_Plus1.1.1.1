{
  "nbformat": 4,
  "nbformat_minor": 0,
  "metadata": {
    "colab": {
      "provenance": []
    },
    "kernelspec": {
      "name": "python3",
      "display_name": "Python 3"
    },
    "language_info": {
      "name": "python"
    }
  },
  "cells": [
    {
      "cell_type": "code",
      "execution_count": null,
      "metadata": {
        "id": "qdS1cT3oQBNQ"
      },
      "outputs": [],
      "source": [
        "import httpx\n",
        "import json\n",
        "import random\n",
        "import string\n",
        "import time\n",
        "from datetime import datetime\n",
        "\n",
        "# Configuration\n",
        "WARP_CLIENT_ID = \"\"  # <- Add your WARP+ ID here\n",
        "COOLDOWN_RANGE = (30, 50)  # seconds between requests\n",
        "SUCCESS_COUNT = 0\n",
        "FAIL_COUNT = 0\n",
        "\n",
        "\n",
        "def generate_string(length, digits_only=False):\n",
        "    \"\"\"Generate a random string of letters/digits or digits only.\"\"\"\n",
        "    charset = string.digits if digits_only else string.ascii_letters + string.digits\n",
        "    return ''.join(random.choice(charset) for _ in range(length))\n",
        "\n",
        "\n",
        "def create_payload(install_id, key, fcm_token):\n",
        "    \"\"\"Generate the registration payload.\"\"\"\n",
        "    return {\n",
        "        \"key\": f\"{key}=\",\n",
        "        \"install_id\": install_id,\n",
        "        \"fcm_token\": f\"{install_id}:APA91b{fcm_token}\",\n",
        "        \"referrer\": WARP_CLIENT_ID,\n",
        "        \"warp_enabled\": False,\n",
        "        \"tos\": f\"{datetime.now().isoformat()[:-3]}+02:00\",\n",
        "        \"type\": \"Android\",\n",
        "        \"locale\": \"en_US\"\n",
        "    }\n",
        "\n",
        "\n",
        "def make_request():\n",
        "    \"\"\"Make a request to the WARP API and handle the response.\"\"\"\n",
        "    global SUCCESS_COUNT, FAIL_COUNT\n",
        "\n",
        "    install_id = generate_string(22)\n",
        "    key = generate_string(43)\n",
        "    fcm_token = generate_string(134)\n",
        "    endpoint = f\"https://api.cloudflareclient.com/v0a{generate_string(3, digits_only=True)}/reg\"\n",
        "    headers = {\n",
        "        \"Content-Type\": \"application/json; charset=UTF-8\",\n",
        "        \"Host\": \"api.cloudflareclient.com\",\n",
        "        \"Connection\": \"Keep-Alive\",\n",
        "        \"Accept-Encoding\": \"gzip\",\n",
        "        \"User-Agent\": \"okhttp/3.12.1\"\n",
        "    }\n",
        "    data = json.dumps(create_payload(install_id, key, fcm_token))\n",
        "\n",
        "    try:\n",
        "        response = httpx.post(endpoint, data=data, headers=headers, timeout=10)\n",
        "        if response.status_code == 200:\n",
        "            SUCCESS_COUNT += 1\n",
        "            print(f\"[✓] SUCCESS: +1GB (Total: {SUCCESS_COUNT}GB, Failed: {FAIL_COUNT})\")\n",
        "        else:\n",
        "            FAIL_COUNT += 1\n",
        "            print(f\"[x] FAILED: {response.status_code} | {response.text}\")\n",
        "    except Exception as e:\n",
        "        FAIL_COUNT += 1\n",
        "        print(f\"[!] ERROR: {e}\")\n",
        "\n",
        "\n",
        "def main():\n",
        "    print(\"🚀 Starting WARP GB Generator (1.1.1.1)...\")\n",
        "    while True:\n",
        "        make_request()\n",
        "        cooldown = random.randint(*COOLDOWN_RANGE)\n",
        "        print(f\"⏳ Cooling down for {cooldown}s...\\n\")\n",
        "        time.sleep(cooldown)\n",
        "\n",
        "\n",
        "if __name__ == \"__main__\":\n",
        "    if not WARP_CLIENT_ID:\n",
        "        print(\"⚠️ Please set your WARP_CLIENT_ID before running.\")\n",
        "    else:\n",
        "        main()\n"
      ]
    }
  ]
}

//Network Module line code 22
